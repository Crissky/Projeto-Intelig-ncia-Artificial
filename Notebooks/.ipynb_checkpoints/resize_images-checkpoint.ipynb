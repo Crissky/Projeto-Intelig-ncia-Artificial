{
 "cells": [
  {
   "cell_type": "code",
   "execution_count": null,
   "metadata": {},
   "outputs": [],
   "source": [
    "#Imports\n",
    "from imutils import paths\n",
    "from itertools import product\n",
    "import os\n",
    "import cv2"
   ]
  },
  {
   "cell_type": "code",
   "execution_count": null,
   "metadata": {},
   "outputs": [],
   "source": [
    "base_path = '..{}imagens'.format(os.sep)\n",
    "base_folders = [os.path.join(base_path, folder) for folder in os.listdir(base_path)]\n",
    "sizes = [(200, 150), (200, 267), (300, 400), (500, 667), (300, 300), (500, 500)]\n",
    "\n",
    "for path, dimensions in list( product( base_folders, sizes ) ):\n",
    "  print( \"woking in\", path, \"with dimensions {}x{}\".format(dimensions[0], dimensions[1]) )\n",
    "  print(\"Get Images...\")\n",
    "  image_paths = list( paths.list_images( path ) )\n",
    "  print(\"Loading Images...\")\n",
    "  images = list( map( cv2.imread, image_paths ) )\n",
    "  print(\"Recolor Images...\")\n",
    "  images = [cv2.cvtColor(image, cv2.COLOR_BGR2RGB) for image in images]\n",
    "  print(\"Resize Images...\")\n",
    "  images = [cv2.resize(image, dimensions) for image in images]\n",
    "  \n",
    "  new_path = base_path + \"{}x{}\".format(dimensions[0], dimensions[1])\n",
    "  new_path = os.path.join(new_path, os.path.basename(path))\n",
    "  os.makedirs(new_path, exist_ok=True)\n",
    "  new_image_paths = [os.path.join(new_path, os.path.basename(image_path)) for image_path in image_paths]\n",
    "\n",
    "  print(\"Saving Images in '{}'... \\n\\n\".format(new_path))\n",
    "  for index in range(len(image_paths)):\n",
    "    cv2.imwrite(new_image_paths[index], images[index])\n",
    "  \n",
    "print(\"Finish!!!\")"
   ]
  }
 ],
 "metadata": {
  "kernelspec": {
   "display_name": "Python 3",
   "language": "python",
   "name": "python3"
  },
  "language_info": {
   "codemirror_mode": {
    "name": "ipython",
    "version": 3
   },
   "file_extension": ".py",
   "mimetype": "text/x-python",
   "name": "python",
   "nbconvert_exporter": "python",
   "pygments_lexer": "ipython3",
   "version": "3.6.8"
  }
 },
 "nbformat": 4,
 "nbformat_minor": 2
}
