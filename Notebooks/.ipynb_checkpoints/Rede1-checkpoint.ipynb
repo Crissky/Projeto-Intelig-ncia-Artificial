{
 "cells": [
  {
   "cell_type": "code",
   "execution_count": 1,
   "metadata": {
    "colab": {
     "base_uri": "https://localhost:8080/",
     "height": 136
    },
    "colab_type": "code",
    "executionInfo": {
     "elapsed": 22196,
     "status": "ok",
     "timestamp": 1573931750431,
     "user": {
      "displayName": "Edson Cristovam",
      "photoUrl": "https://lh3.googleusercontent.com/a-/AAuE7mCm0w8uh3dr4VN5V6pY6zjbQrzlPMy_n8pI48mKfw=s64",
      "userId": "03083026926885265542"
     },
     "user_tz": 180
    },
    "id": "XriuX6uyu_RS",
    "outputId": "3ae4f8ad-99d3-4b79-ba19-97e5a73795a8"
   },
   "outputs": [
    {
     "name": "stdout",
     "output_type": "stream",
     "text": [
      "Cloning into 'Projeto-Inteligencia-Artificial'...\n",
      "remote: Enumerating objects: 3, done.\u001b[K\n",
      "remote: Counting objects:  33% (1/3)\u001b[K\r",
      "remote: Counting objects:  66% (2/3)\u001b[K\r",
      "remote: Counting objects: 100% (3/3)\u001b[K\r",
      "remote: Counting objects: 100% (3/3), done.\u001b[K\n",
      "remote: Compressing objects: 100% (3/3), done.\u001b[K\n",
      "remote: Total 242 (delta 0), reused 3 (delta 0), pack-reused 239\u001b[K\n",
      "Receiving objects: 100% (242/242), 905.40 MiB | 60.44 MiB/s, done.\n",
      "Checking out files: 100% (230/230), done.\n"
     ]
    }
   ],
   "source": [
    "!rm -r Projeto-Inteligencia-Artificial\n",
    "!git clone https://github.com/Crissky/Projeto-Inteligencia-Artificial.git"
   ]
  },
  {
   "cell_type": "code",
   "execution_count": 2,
   "metadata": {
    "colab": {
     "base_uri": "https://localhost:8080/",
     "height": 34
    },
    "colab_type": "code",
    "executionInfo": {
     "elapsed": 24103,
     "status": "ok",
     "timestamp": 1573931752355,
     "user": {
      "displayName": "Edson Cristovam",
      "photoUrl": "https://lh3.googleusercontent.com/a-/AAuE7mCm0w8uh3dr4VN5V6pY6zjbQrzlPMy_n8pI48mKfw=s64",
      "userId": "03083026926885265542"
     },
     "user_tz": 180
    },
    "id": "g26Ej9HxCOBR",
    "outputId": "d5ba7826-8fd5-49b5-8f34-cfdac84d164f"
   },
   "outputs": [
    {
     "name": "stderr",
     "output_type": "stream",
     "text": [
      "Using TensorFlow backend.\n"
     ]
    }
   ],
   "source": [
    "%tensorflow_version 1.x\n",
    "#Imports\n",
    "from keras.models import Sequential\n",
    "from keras.layers.convolutional import Conv2D\n",
    "from keras.layers.convolutional import MaxPooling2D\n",
    "from keras.models import Model\n",
    "from keras.layers.core import Activation\n",
    "from keras.layers.core import Flatten\n",
    "from keras.layers.core import Dropout\n",
    "from keras.layers.core import Dense\n",
    "from keras.layers.merge import concatenate\n",
    "from keras.layers import Input\n",
    "from keras import backend as K\n",
    " \n",
    "#from pyimagesearch.simplenet import SimpleNet\n",
    "from sklearn.preprocessing import LabelEncoder\n",
    "from sklearn.model_selection import train_test_split\n",
    "from sklearn.metrics import classification_report\n",
    "from keras.optimizers import SGD\n",
    "from keras.optimizers import Adam\n",
    "from keras.regularizers import l2\n",
    "from keras.utils import np_utils\n",
    "from imutils import build_montages\n",
    "from imutils import paths\n",
    "import matplotlib.pyplot as plt\n",
    "import numpy as np\n",
    "import argparse\n",
    "import cv2\n",
    "import os\n",
    "\n",
    "import matplotlib\n",
    "matplotlib.use(\"Agg\")"
   ]
  },
  {
   "cell_type": "code",
   "execution_count": 0,
   "metadata": {
    "colab": {},
    "colab_type": "code",
    "id": "2LKwpFbuFJcc"
   },
   "outputs": [],
   "source": [
    "#Modelo\n",
    "def plants_build(width, height, depth, classes, reg):\n",
    "  model = Sequential()\n",
    "  inputShape = (height, width, depth)\n",
    "\n",
    "  # if we are using \"channels first\", update the input shape\n",
    "  if K.image_data_format() == \"channels_first\":\n",
    "    inputShape = (depth, height, width)\n",
    "\n",
    "  model.add(Conv2D(256, (11, 11), input_shape=inputShape, padding=\"same\", kernel_regularizer=reg))\n",
    "  model.add(Activation(\"relu\"))\n",
    "  model.add(Conv2D(128, (5, 5), padding=\"same\", kernel_regularizer=reg))\n",
    "  model.add(Activation(\"relu\"))\n",
    "  model.add(MaxPooling2D(pool_size=(2, 2)))\n",
    "  model.add(Dropout(0.25))\n",
    "\n",
    "  model.add(Conv2D(64, (5, 5), padding=\"same\", kernel_regularizer=reg))\n",
    "  model.add(Activation(\"relu\"))\n",
    "  model.add(MaxPooling2D(pool_size=(2, 2)))\n",
    "  model.add(Dropout(0.25))\n",
    "\n",
    "  model.add(Conv2D(32, (3, 3), padding=\"same\", kernel_regularizer=reg))\n",
    "  model.add(Activation(\"relu\"))\n",
    "  model.add(MaxPooling2D(pool_size=(2, 2)))\n",
    "  model.add(Dropout(0.25))\n",
    "\n",
    "  model.add(Flatten())\n",
    "  model.add(Dense(512, kernel_regularizer=reg))\n",
    "  model.add(Activation(\"relu\"))\n",
    "  model.add(Dropout(0.12))\n",
    "\n",
    "  model.add(Dense(classes))\n",
    "  model.add(Activation(\"softmax\"))\n",
    "    \n",
    "  return model"
   ]
  },
  {
   "cell_type": "code",
   "execution_count": 4,
   "metadata": {
    "colab": {
     "base_uri": "https://localhost:8080/",
     "height": 34
    },
    "colab_type": "code",
    "executionInfo": {
     "elapsed": 86641,
     "status": "ok",
     "timestamp": 1573931814921,
     "user": {
      "displayName": "Edson Cristovam",
      "photoUrl": "https://lh3.googleusercontent.com/a-/AAuE7mCm0w8uh3dr4VN5V6pY6zjbQrzlPMy_n8pI48mKfw=s64",
      "userId": "03083026926885265542"
     },
     "user_tz": 180
    },
    "id": "skwh-2OHCOiT",
    "outputId": "a8907df7-a916-4a93-c551-359beadbb23a"
   },
   "outputs": [
    {
     "name": "stdout",
     "output_type": "stream",
     "text": [
      "[INFO] loading images...\n"
     ]
    }
   ],
   "source": [
    "#Dataset\n",
    "arg_dataset = \"Projeto-Inteligencia-Artificial/imagens\"\n",
    "\n",
    "print(\"[INFO] loading images...\")\n",
    "imagePaths = list(paths.list_images(arg_dataset))\n",
    "data = []\n",
    "labels = []\n",
    "mWidth=200#200\n",
    "mHeight=150#150\n",
    "myDepth = 3\n",
    "\n",
    "for imagePath in imagePaths:\n",
    "  label = imagePath.split(os.path.sep)[-2]\n",
    "\n",
    "  image = cv2.imread(imagePath)\n",
    "  if(myDepth == 1):\n",
    "    image = cv2.cvtColor(image, cv2.COLOR_BGR2GRAY)\n",
    "  elif(myDepth == 3):\n",
    "    image = cv2.cvtColor(image, cv2.COLOR_BGR2RGB)\n",
    "  image = cv2.resize(image, (mWidth, mHeight))\n",
    "\n",
    "  data.append(image)\n",
    "  labels.append(label)\n",
    "\n",
    "num_classes = len(list(set(labels)))\n",
    "\n",
    "data = np.array(data, dtype=\"float\") / 255.0\n",
    "data = data.reshape((data.shape[0], data.shape[1], data.shape[2], myDepth))\n",
    "le = LabelEncoder()\n",
    "labels = le.fit_transform(labels)\n",
    "labels = np_utils.to_categorical(labels, num_classes)\n",
    "\n",
    "(trainX, testX, trainY, testY) = train_test_split(data, labels, test_size=0.40, stratify=labels, random_state=42)\n"
   ]
  },
  {
   "cell_type": "code",
   "execution_count": 5,
   "metadata": {
    "colab": {
     "base_uri": "https://localhost:8080/",
     "height": 1000
    },
    "colab_type": "code",
    "executionInfo": {
     "elapsed": 202301,
     "status": "ok",
     "timestamp": 1573931930593,
     "user": {
      "displayName": "Edson Cristovam",
      "photoUrl": "https://lh3.googleusercontent.com/a-/AAuE7mCm0w8uh3dr4VN5V6pY6zjbQrzlPMy_n8pI48mKfw=s64",
      "userId": "03083026926885265542"
     },
     "user_tz": 180
    },
    "id": "jEwMDsZCGLWg",
    "outputId": "7762df0c-970c-46df-f4f6-8d192d6f87e5"
   },
   "outputs": [
    {
     "name": "stdout",
     "output_type": "stream",
     "text": [
      "[INFO] compiling model...\n",
      "WARNING:tensorflow:From /usr/local/lib/python3.6/dist-packages/keras/backend/tensorflow_backend.py:66: The name tf.get_default_graph is deprecated. Please use tf.compat.v1.get_default_graph instead.\n",
      "\n",
      "WARNING:tensorflow:From /usr/local/lib/python3.6/dist-packages/keras/backend/tensorflow_backend.py:541: The name tf.placeholder is deprecated. Please use tf.compat.v1.placeholder instead.\n",
      "\n",
      "WARNING:tensorflow:From /usr/local/lib/python3.6/dist-packages/keras/backend/tensorflow_backend.py:4432: The name tf.random_uniform is deprecated. Please use tf.random.uniform instead.\n",
      "\n",
      "WARNING:tensorflow:From /usr/local/lib/python3.6/dist-packages/keras/backend/tensorflow_backend.py:4267: The name tf.nn.max_pool is deprecated. Please use tf.nn.max_pool2d instead.\n",
      "\n",
      "WARNING:tensorflow:From /usr/local/lib/python3.6/dist-packages/keras/backend/tensorflow_backend.py:148: The name tf.placeholder_with_default is deprecated. Please use tf.compat.v1.placeholder_with_default instead.\n",
      "\n",
      "WARNING:tensorflow:From /usr/local/lib/python3.6/dist-packages/keras/backend/tensorflow_backend.py:3733: calling dropout (from tensorflow.python.ops.nn_ops) with keep_prob is deprecated and will be removed in a future version.\n",
      "Instructions for updating:\n",
      "Please use `rate` instead of `keep_prob`. Rate should be set to `rate = 1 - keep_prob`.\n",
      "WARNING:tensorflow:From /usr/local/lib/python3.6/dist-packages/keras/optimizers.py:793: The name tf.train.Optimizer is deprecated. Please use tf.compat.v1.train.Optimizer instead.\n",
      "\n",
      "WARNING:tensorflow:From /usr/local/lib/python3.6/dist-packages/keras/backend/tensorflow_backend.py:3657: The name tf.log is deprecated. Please use tf.math.log instead.\n",
      "\n",
      "WARNING:tensorflow:From /usr/local/lib/python3.6/dist-packages/tensorflow_core/python/ops/nn_impl.py:183: where (from tensorflow.python.ops.array_ops) is deprecated and will be removed in a future version.\n",
      "Instructions for updating:\n",
      "Use tf.where in 2.0, which has the same broadcast rule as np.where\n",
      "[INFO] training network for 80 epochs...\n",
      "WARNING:tensorflow:From /usr/local/lib/python3.6/dist-packages/keras/backend/tensorflow_backend.py:1033: The name tf.assign_add is deprecated. Please use tf.compat.v1.assign_add instead.\n",
      "\n",
      "WARNING:tensorflow:From /usr/local/lib/python3.6/dist-packages/keras/backend/tensorflow_backend.py:1020: The name tf.assign is deprecated. Please use tf.compat.v1.assign instead.\n",
      "\n",
      "WARNING:tensorflow:From /usr/local/lib/python3.6/dist-packages/keras/backend/tensorflow_backend.py:3005: The name tf.Session is deprecated. Please use tf.compat.v1.Session instead.\n",
      "\n",
      "Train on 137 samples, validate on 92 samples\n",
      "Epoch 1/80\n",
      "WARNING:tensorflow:From /usr/local/lib/python3.6/dist-packages/keras/backend/tensorflow_backend.py:190: The name tf.get_default_session is deprecated. Please use tf.compat.v1.get_default_session instead.\n",
      "\n",
      "WARNING:tensorflow:From /usr/local/lib/python3.6/dist-packages/keras/backend/tensorflow_backend.py:197: The name tf.ConfigProto is deprecated. Please use tf.compat.v1.ConfigProto instead.\n",
      "\n",
      "WARNING:tensorflow:From /usr/local/lib/python3.6/dist-packages/keras/backend/tensorflow_backend.py:207: The name tf.global_variables is deprecated. Please use tf.compat.v1.global_variables instead.\n",
      "\n",
      "WARNING:tensorflow:From /usr/local/lib/python3.6/dist-packages/keras/backend/tensorflow_backend.py:216: The name tf.is_variable_initialized is deprecated. Please use tf.compat.v1.is_variable_initialized instead.\n",
      "\n",
      "WARNING:tensorflow:From /usr/local/lib/python3.6/dist-packages/keras/backend/tensorflow_backend.py:223: The name tf.variables_initializer is deprecated. Please use tf.compat.v1.variables_initializer instead.\n",
      "\n",
      "137/137 [==============================] - 8s 61ms/step - loss: 0.9826 - acc: 0.4818 - val_loss: 0.9471 - val_acc: 0.5217\n",
      "Epoch 2/80\n",
      "137/137 [==============================] - 1s 10ms/step - loss: 0.9514 - acc: 0.5182 - val_loss: 0.9468 - val_acc: 0.4783\n",
      "Epoch 3/80\n",
      "137/137 [==============================] - 1s 10ms/step - loss: 0.9539 - acc: 0.4599 - val_loss: 0.9440 - val_acc: 0.5217\n",
      "Epoch 4/80\n",
      "137/137 [==============================] - 1s 10ms/step - loss: 0.9489 - acc: 0.4526 - val_loss: 0.9433 - val_acc: 0.4783\n",
      "Epoch 5/80\n",
      "137/137 [==============================] - 1s 10ms/step - loss: 0.9353 - acc: 0.5547 - val_loss: 0.9395 - val_acc: 0.5217\n",
      "Epoch 6/80\n",
      "137/137 [==============================] - 1s 10ms/step - loss: 0.9315 - acc: 0.5620 - val_loss: 0.9367 - val_acc: 0.5217\n",
      "Epoch 7/80\n",
      "137/137 [==============================] - 1s 10ms/step - loss: 0.9224 - acc: 0.5547 - val_loss: 0.9329 - val_acc: 0.5326\n",
      "Epoch 8/80\n",
      "137/137 [==============================] - 1s 10ms/step - loss: 0.8996 - acc: 0.6277 - val_loss: 0.9360 - val_acc: 0.4783\n",
      "Epoch 9/80\n",
      "137/137 [==============================] - 1s 10ms/step - loss: 0.9497 - acc: 0.5109 - val_loss: 0.9251 - val_acc: 0.5543\n",
      "Epoch 10/80\n",
      "137/137 [==============================] - 1s 10ms/step - loss: 0.8971 - acc: 0.6277 - val_loss: 0.9238 - val_acc: 0.5326\n",
      "Epoch 11/80\n",
      "137/137 [==============================] - 1s 10ms/step - loss: 0.8761 - acc: 0.7007 - val_loss: 0.9210 - val_acc: 0.5109\n",
      "Epoch 12/80\n",
      "137/137 [==============================] - 1s 10ms/step - loss: 0.8446 - acc: 0.7080 - val_loss: 0.9045 - val_acc: 0.5978\n",
      "Epoch 13/80\n",
      "137/137 [==============================] - 1s 10ms/step - loss: 0.8086 - acc: 0.7226 - val_loss: 0.9055 - val_acc: 0.5652\n",
      "Epoch 14/80\n",
      "137/137 [==============================] - 1s 10ms/step - loss: 0.7207 - acc: 0.7445 - val_loss: 0.8959 - val_acc: 0.6522\n",
      "Epoch 15/80\n",
      "137/137 [==============================] - 1s 10ms/step - loss: 0.7600 - acc: 0.7518 - val_loss: 0.8948 - val_acc: 0.6522\n",
      "Epoch 16/80\n",
      "137/137 [==============================] - 1s 10ms/step - loss: 0.7743 - acc: 0.7299 - val_loss: 0.8693 - val_acc: 0.6196\n",
      "Epoch 17/80\n",
      "137/137 [==============================] - 1s 10ms/step - loss: 0.7154 - acc: 0.7883 - val_loss: 0.8604 - val_acc: 0.6957\n",
      "Epoch 18/80\n",
      "137/137 [==============================] - 1s 10ms/step - loss: 0.6525 - acc: 0.8029 - val_loss: 0.8358 - val_acc: 0.7065\n",
      "Epoch 19/80\n",
      "137/137 [==============================] - 1s 10ms/step - loss: 0.6701 - acc: 0.7591 - val_loss: 0.8146 - val_acc: 0.7174\n",
      "Epoch 20/80\n",
      "137/137 [==============================] - 1s 10ms/step - loss: 0.5867 - acc: 0.8467 - val_loss: 0.8028 - val_acc: 0.7391\n",
      "Epoch 21/80\n",
      "137/137 [==============================] - 1s 10ms/step - loss: 0.5290 - acc: 0.8832 - val_loss: 0.8164 - val_acc: 0.7065\n",
      "Epoch 22/80\n",
      "137/137 [==============================] - 1s 10ms/step - loss: 0.6170 - acc: 0.8175 - val_loss: 0.8338 - val_acc: 0.7174\n",
      "Epoch 23/80\n",
      "137/137 [==============================] - 1s 10ms/step - loss: 0.5095 - acc: 0.8686 - val_loss: 0.7582 - val_acc: 0.7717\n",
      "Epoch 24/80\n",
      "137/137 [==============================] - 1s 10ms/step - loss: 0.4836 - acc: 0.8832 - val_loss: 0.7491 - val_acc: 0.7826\n",
      "Epoch 25/80\n",
      "137/137 [==============================] - 1s 10ms/step - loss: 0.5113 - acc: 0.8467 - val_loss: 0.7890 - val_acc: 0.7174\n",
      "Epoch 26/80\n",
      "137/137 [==============================] - 1s 10ms/step - loss: 0.4310 - acc: 0.9270 - val_loss: 0.7406 - val_acc: 0.7935\n",
      "Epoch 27/80\n",
      "137/137 [==============================] - 1s 10ms/step - loss: 0.3785 - acc: 0.9489 - val_loss: 0.7552 - val_acc: 0.7826\n",
      "Epoch 28/80\n",
      "137/137 [==============================] - 1s 10ms/step - loss: 0.3646 - acc: 0.9635 - val_loss: 0.7426 - val_acc: 0.8261\n",
      "Epoch 29/80\n",
      "137/137 [==============================] - 1s 10ms/step - loss: 0.3151 - acc: 0.9781 - val_loss: 0.8266 - val_acc: 0.7935\n",
      "Epoch 30/80\n",
      "137/137 [==============================] - 1s 10ms/step - loss: 0.3835 - acc: 0.9124 - val_loss: 0.7797 - val_acc: 0.7935\n",
      "Epoch 31/80\n",
      "137/137 [==============================] - 1s 10ms/step - loss: 0.3888 - acc: 0.9343 - val_loss: 0.7501 - val_acc: 0.8043\n",
      "Epoch 32/80\n",
      "137/137 [==============================] - 1s 10ms/step - loss: 0.3827 - acc: 0.9124 - val_loss: 0.7524 - val_acc: 0.8261\n",
      "Epoch 33/80\n",
      "137/137 [==============================] - 1s 10ms/step - loss: 0.2879 - acc: 0.9854 - val_loss: 0.6959 - val_acc: 0.8370\n",
      "Epoch 34/80\n",
      "137/137 [==============================] - 1s 10ms/step - loss: 0.2728 - acc: 0.9854 - val_loss: 0.7351 - val_acc: 0.8370\n",
      "Epoch 35/80\n",
      "137/137 [==============================] - 1s 10ms/step - loss: 0.2551 - acc: 0.9927 - val_loss: 0.7143 - val_acc: 0.8370\n",
      "Epoch 36/80\n",
      "137/137 [==============================] - 1s 10ms/step - loss: 0.2450 - acc: 0.9927 - val_loss: 0.8762 - val_acc: 0.7717\n",
      "Epoch 37/80\n",
      "137/137 [==============================] - 1s 10ms/step - loss: 0.2992 - acc: 0.9635 - val_loss: 0.8766 - val_acc: 0.7391\n",
      "Epoch 38/80\n",
      "137/137 [==============================] - 1s 10ms/step - loss: 0.2704 - acc: 0.9635 - val_loss: 0.8843 - val_acc: 0.7826\n",
      "Epoch 39/80\n",
      "137/137 [==============================] - 1s 10ms/step - loss: 0.2398 - acc: 0.9927 - val_loss: 0.8019 - val_acc: 0.8152\n",
      "Epoch 40/80\n",
      "137/137 [==============================] - 1s 10ms/step - loss: 0.2459 - acc: 0.9854 - val_loss: 0.8588 - val_acc: 0.8587\n",
      "Epoch 41/80\n",
      "137/137 [==============================] - 1s 10ms/step - loss: 0.2103 - acc: 1.0000 - val_loss: 0.9050 - val_acc: 0.8587\n",
      "Epoch 42/80\n",
      "137/137 [==============================] - 1s 10ms/step - loss: 0.2195 - acc: 1.0000 - val_loss: 0.9290 - val_acc: 0.8587\n",
      "Epoch 43/80\n",
      "137/137 [==============================] - 1s 10ms/step - loss: 0.2028 - acc: 1.0000 - val_loss: 0.9547 - val_acc: 0.8478\n",
      "Epoch 44/80\n",
      "137/137 [==============================] - 1s 10ms/step - loss: 0.1968 - acc: 1.0000 - val_loss: 0.9427 - val_acc: 0.8370\n",
      "Epoch 45/80\n",
      "137/137 [==============================] - 1s 10ms/step - loss: 0.2072 - acc: 0.9927 - val_loss: 1.0076 - val_acc: 0.8478\n",
      "Epoch 46/80\n",
      "137/137 [==============================] - 1s 10ms/step - loss: 0.2029 - acc: 1.0000 - val_loss: 0.9885 - val_acc: 0.8370\n",
      "Epoch 47/80\n",
      "137/137 [==============================] - 1s 10ms/step - loss: 0.2114 - acc: 0.9854 - val_loss: 1.0672 - val_acc: 0.8478\n",
      "Epoch 48/80\n",
      "137/137 [==============================] - 1s 10ms/step - loss: 0.2116 - acc: 1.0000 - val_loss: 1.0389 - val_acc: 0.8370\n",
      "Epoch 49/80\n",
      "137/137 [==============================] - 1s 10ms/step - loss: 0.1904 - acc: 1.0000 - val_loss: 1.0221 - val_acc: 0.8370\n",
      "Epoch 50/80\n",
      "137/137 [==============================] - 1s 10ms/step - loss: 0.1974 - acc: 1.0000 - val_loss: 1.0675 - val_acc: 0.8370\n",
      "Epoch 51/80\n",
      "137/137 [==============================] - 1s 10ms/step - loss: 0.1939 - acc: 1.0000 - val_loss: 1.0377 - val_acc: 0.8370\n",
      "Epoch 52/80\n",
      "137/137 [==============================] - 1s 10ms/step - loss: 0.1867 - acc: 1.0000 - val_loss: 0.9846 - val_acc: 0.8261\n",
      "Epoch 53/80\n",
      "137/137 [==============================] - 1s 10ms/step - loss: 0.1892 - acc: 1.0000 - val_loss: 0.9981 - val_acc: 0.8370\n",
      "Epoch 54/80\n",
      "137/137 [==============================] - 1s 10ms/step - loss: 0.1876 - acc: 1.0000 - val_loss: 1.0598 - val_acc: 0.8370\n",
      "Epoch 55/80\n",
      "137/137 [==============================] - 1s 10ms/step - loss: 0.1863 - acc: 1.0000 - val_loss: 1.1078 - val_acc: 0.8370\n",
      "Epoch 56/80\n",
      "137/137 [==============================] - 1s 10ms/step - loss: 0.1826 - acc: 1.0000 - val_loss: 1.0926 - val_acc: 0.8370\n",
      "Epoch 57/80\n",
      "137/137 [==============================] - 1s 10ms/step - loss: 0.1809 - acc: 1.0000 - val_loss: 1.0932 - val_acc: 0.8587\n",
      "Epoch 58/80\n",
      "137/137 [==============================] - 1s 10ms/step - loss: 0.1806 - acc: 1.0000 - val_loss: 1.1055 - val_acc: 0.8587\n",
      "Epoch 59/80\n",
      "137/137 [==============================] - 1s 10ms/step - loss: 0.1803 - acc: 1.0000 - val_loss: 1.1372 - val_acc: 0.8370\n",
      "Epoch 60/80\n",
      "137/137 [==============================] - 1s 10ms/step - loss: 0.1814 - acc: 1.0000 - val_loss: 1.1375 - val_acc: 0.8370\n",
      "Epoch 61/80\n",
      "137/137 [==============================] - 1s 10ms/step - loss: 0.1786 - acc: 1.0000 - val_loss: 1.1449 - val_acc: 0.8370\n",
      "Epoch 62/80\n",
      "137/137 [==============================] - 1s 10ms/step - loss: 0.1774 - acc: 1.0000 - val_loss: 1.1626 - val_acc: 0.8478\n",
      "Epoch 63/80\n",
      "137/137 [==============================] - 1s 10ms/step - loss: 0.1761 - acc: 1.0000 - val_loss: 1.1614 - val_acc: 0.8478\n",
      "Epoch 64/80\n",
      "137/137 [==============================] - 1s 10ms/step - loss: 0.1752 - acc: 1.0000 - val_loss: 1.1545 - val_acc: 0.8587\n",
      "Epoch 65/80\n",
      "137/137 [==============================] - 1s 10ms/step - loss: 0.1753 - acc: 1.0000 - val_loss: 1.1460 - val_acc: 0.8478\n",
      "Epoch 66/80\n",
      "137/137 [==============================] - 1s 10ms/step - loss: 0.1738 - acc: 1.0000 - val_loss: 1.1479 - val_acc: 0.8587\n",
      "Epoch 67/80\n",
      "137/137 [==============================] - 1s 10ms/step - loss: 0.1734 - acc: 1.0000 - val_loss: 1.1596 - val_acc: 0.8478\n",
      "Epoch 68/80\n",
      "137/137 [==============================] - 1s 10ms/step - loss: 0.1727 - acc: 1.0000 - val_loss: 1.1784 - val_acc: 0.8587\n",
      "Epoch 69/80\n",
      "137/137 [==============================] - 1s 10ms/step - loss: 0.1729 - acc: 1.0000 - val_loss: 1.1774 - val_acc: 0.8370\n",
      "Epoch 70/80\n",
      "137/137 [==============================] - 1s 10ms/step - loss: 0.1713 - acc: 1.0000 - val_loss: 1.1734 - val_acc: 0.8478\n",
      "Epoch 71/80\n",
      "137/137 [==============================] - 1s 10ms/step - loss: 0.1707 - acc: 1.0000 - val_loss: 1.1932 - val_acc: 0.8478\n",
      "Epoch 72/80\n",
      "137/137 [==============================] - 1s 10ms/step - loss: 0.1695 - acc: 1.0000 - val_loss: 1.2052 - val_acc: 0.8478\n",
      "Epoch 73/80\n",
      "137/137 [==============================] - 1s 10ms/step - loss: 0.1696 - acc: 1.0000 - val_loss: 1.2246 - val_acc: 0.8478\n",
      "Epoch 74/80\n",
      "137/137 [==============================] - 1s 10ms/step - loss: 0.1686 - acc: 1.0000 - val_loss: 1.2305 - val_acc: 0.8478\n",
      "Epoch 75/80\n",
      "137/137 [==============================] - 1s 10ms/step - loss: 0.1676 - acc: 1.0000 - val_loss: 1.2350 - val_acc: 0.8370\n",
      "Epoch 76/80\n",
      "137/137 [==============================] - 1s 10ms/step - loss: 0.1675 - acc: 1.0000 - val_loss: 1.2371 - val_acc: 0.8478\n",
      "Epoch 77/80\n",
      "137/137 [==============================] - 1s 10ms/step - loss: 0.1662 - acc: 1.0000 - val_loss: 1.2386 - val_acc: 0.8478\n",
      "Epoch 78/80\n",
      "137/137 [==============================] - 1s 10ms/step - loss: 0.1655 - acc: 1.0000 - val_loss: 1.2485 - val_acc: 0.8587\n",
      "Epoch 79/80\n",
      "137/137 [==============================] - 1s 10ms/step - loss: 0.1650 - acc: 1.0000 - val_loss: 1.2599 - val_acc: 0.8587\n",
      "Epoch 80/80\n",
      "137/137 [==============================] - 1s 10ms/step - loss: 0.1641 - acc: 1.0000 - val_loss: 1.2638 - val_acc: 0.8587\n",
      "[INFO] evaluating network...\n",
      "               precision    recall  f1-score   support\n",
      "\n",
      "fava_cearense       0.90      0.80      0.84        44\n",
      " orelha_de_vo       0.83      0.92      0.87        48\n",
      "\n",
      "     accuracy                           0.86        92\n",
      "    macro avg       0.86      0.86      0.86        92\n",
      " weighted avg       0.86      0.86      0.86        92\n",
      "\n"
     ]
    }
   ],
   "source": [
    "#Training\n",
    "myBatch_size = 32\n",
    "arg_epochs = 80\n",
    "\n",
    "print(\"[INFO] compiling model...\")\n",
    "#opt = SGD(lr=0.01)\n",
    "opt = Adam(lr=1e-4, decay=1e-4 / arg_epochs)\n",
    "model = plants_build(width=mWidth, height=mHeight, depth=myDepth,\n",
    "\tclasses=len(le.classes_), reg=l2(0.0002))\n",
    "model.compile(loss=\"binary_crossentropy\", optimizer=opt,\n",
    "\tmetrics=[\"accuracy\"])\n",
    "\n",
    "print(\"[INFO] training network for {} epochs...\".format(\n",
    "\targ_epochs))\n",
    "\n",
    "H = model.fit(trainX, trainY,\n",
    "     validation_data=(testX, testY), batch_size=myBatch_size,\n",
    "     epochs=arg_epochs, verbose=1)\n",
    "\n",
    "print(\"[INFO] evaluating network...\")\n",
    "predictions = model.predict(testX, batch_size=myBatch_size)\n",
    "print(classification_report(testY.argmax(axis=1),\n",
    "\tpredictions.argmax(axis=1), target_names=le.classes_))\n"
   ]
  },
  {
   "cell_type": "code",
   "execution_count": 6,
   "metadata": {
    "colab": {
     "base_uri": "https://localhost:8080/",
     "height": 299
    },
    "colab_type": "code",
    "executionInfo": {
     "elapsed": 202803,
     "status": "ok",
     "timestamp": 1573931931116,
     "user": {
      "displayName": "Edson Cristovam",
      "photoUrl": "https://lh3.googleusercontent.com/a-/AAuE7mCm0w8uh3dr4VN5V6pY6zjbQrzlPMy_n8pI48mKfw=s64",
      "userId": "03083026926885265542"
     },
     "user_tz": 180
    },
    "id": "cy0WUHi4GQ1l",
    "outputId": "e9cba156-63f8-4407-cabf-fd6ac81bac86"
   },
   "outputs": [
    {
     "data": {
      "image/png": "[encoded data removed]",
      "text/plain": [
       "<Figure size 432x288 with 1 Axes>"
      ]
     },
     "metadata": {
      "tags": []
     },
     "output_type": "display_data"
    }
   ],
   "source": [
    "#Results\n",
    "%matplotlib inline\n",
    "N = arg_epochs\n",
    "\n",
    "plt.figure()\n",
    "plt.style.use(\"ggplot\")\n",
    "plt.plot(np.arange(0, N), H.history[\"loss\"], label=\"train_loss\")\n",
    "plt.plot(np.arange(0, N), H.history[\"val_loss\"], label=\"val_loss\")\n",
    "plt.plot(np.arange(0, N), H.history[\"acc\"], label=\"train_acc\")\n",
    "plt.plot(np.arange(0, N), H.history[\"val_acc\"], label=\"val_acc\")\n",
    "plt.title(\"Training Loss and Accuracy on Dataset\")\n",
    "plt.xlabel(\"Epoch #\")\n",
    "plt.ylabel(\"Loss/Accuracy\")\n",
    "plt.legend(loc=\"lower left\")\n",
    "plt.show()\n",
    "#plt.savefig(args[\"plot\"])\n",
    "\n"
   ]
  },
  {
   "cell_type": "code",
   "execution_count": 0,
   "metadata": {
    "colab": {},
    "colab_type": "code",
    "id": "8dbCSgxIGWGU"
   },
   "outputs": [],
   "source": [
    "# #(trainX, testX, trainY, testY)\n",
    "# fig = plt.figure(figsize=(20,20))\n",
    "# for i in range(6):\n",
    "#     ax = fig.add_subplot(1, 6, i+1, xticks=[], yticks=[])\n",
    "#     ax.imshow(trainX[i], cmap='gray')\n",
    "#     ax.set_title(str(trainY[i]))"
   ]
  }
 ],
 "metadata": {
  "accelerator": "GPU",
  "colab": {
   "collapsed_sections": [],
   "name": "Rede1.ipynb",
   "provenance": []
  },
  "kernelspec": {
   "display_name": "Python 3",
   "language": "python",
   "name": "python3"
  },
  "language_info": {
   "codemirror_mode": {
    "name": "ipython",
    "version": 3
   },
   "file_extension": ".py",
   "mimetype": "text/x-python",
   "name": "python",
   "nbconvert_exporter": "python",
   "pygments_lexer": "ipython3",
   "version": "3.6.8"
  }
 },
 "nbformat": 4,
 "nbformat_minor": 1
}
